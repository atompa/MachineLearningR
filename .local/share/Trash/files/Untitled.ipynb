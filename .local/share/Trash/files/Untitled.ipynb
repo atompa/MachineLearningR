{
 "cells": [
  {
   "cell_type": "markdown",
   "id": "white-september",
   "metadata": {},
   "source": [
    "# Machine Learning in R"
   ]
  },
  {
   "cell_type": "code",
   "execution_count": 4,
   "id": "accepting-brief",
   "metadata": {},
   "outputs": [],
   "source": [
    "library(caret)"
   ]
  },
  {
   "cell_type": "markdown",
   "id": "crucial-spouse",
   "metadata": {},
   "source": [
    "# Load the iris data the easy way"
   ]
  },
  {
   "cell_type": "code",
   "execution_count": 5,
   "id": "ruled-salad",
   "metadata": {},
   "outputs": [],
   "source": [
    "# attach the iris dataset to the environment\n",
    "# data(iris)\n",
    "# rename the dataset\n",
    "# dataset <- iris"
   ]
  },
  {
   "cell_type": "markdown",
   "id": "complimentary-enclosure",
   "metadata": {},
   "source": [
    "# Load from CSV file"
   ]
  },
  {
   "cell_type": "code",
   "execution_count": 6,
   "id": "victorian-secretariat",
   "metadata": {},
   "outputs": [],
   "source": [
    "# define the filename\n",
    "filename <- \"iris.csv\"\n",
    "# load the CSV file from the local directory\n",
    "dataset <- read.csv(filename, header=FALSE)\n",
    "# set the column names in the dataset\n",
    "colnames(dataset) <- c(\"Sepal.Length\",\"Sepal.Width\",\"Petal.Length\",\"Petal.Width\",\"Species\")\n"
   ]
  },
  {
   "cell_type": "code",
   "execution_count": 7,
   "id": "closing-construction",
   "metadata": {},
   "outputs": [],
   "source": [
    "# create a list of 80% of the rows in the original dataset we can use for training\n",
    "validation_index <- createDataPartition(dataset$Species, p=0.80, list=FALSE)\n",
    "# select 20% of the data for validation\n",
    "validation <- dataset[-validation_index,]\n",
    "# use the remaining 80% of data to training and testing the models\n",
    "dataset <- dataset[validation_index,]"
   ]
  },
  {
   "cell_type": "code",
   "execution_count": null,
   "id": "dynamic-corporation",
   "metadata": {},
   "outputs": [],
   "source": []
  }
 ],
 "metadata": {
  "kernelspec": {
   "display_name": "R",
   "language": "R",
   "name": "ir"
  },
  "language_info": {
   "codemirror_mode": "r",
   "file_extension": ".r",
   "mimetype": "text/x-r-source",
   "name": "R",
   "pygments_lexer": "r",
   "version": "4.0.1"
  }
 },
 "nbformat": 4,
 "nbformat_minor": 5
}
